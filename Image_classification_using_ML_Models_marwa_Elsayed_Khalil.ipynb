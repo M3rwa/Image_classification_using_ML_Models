{
  "cells": [
    {
      "cell_type": "markdown",
      "metadata": {
        "id": "UY57x7EaMZnN"
      },
      "source": [
        "# **Libraries**"
      ]
    },
    {
      "cell_type": "code",
      "execution_count": 19,
      "metadata": {
        "id": "_wJD3YGy9F4g"
      },
      "outputs": [],
      "source": [
        "#import Libraries\n",
        "from tensorflow import keras\n",
        "import matplotlib.pyplot as plt\n",
        "import numpy as np\n",
        "import cv2\n",
        "from sklearn.metrics import accuracy_score, confusion_matrix,classification_report\n",
        "### for models\n",
        "from sklearn.ensemble import RandomForestClassifier\n",
        "from sklearn.neighbors import KNeighborsClassifier\n",
        "from sklearn.tree import DecisionTreeClassifier\n",
        "from sklearn.naive_bayes import GaussianNB"
      ]
    },
    {
      "cell_type": "code",
      "execution_count": 11,
      "metadata": {
        "id": "lk39FRzXAQK8"
      },
      "outputs": [],
      "source": [
        "(x_train,y_train),(x_test,y_test) = keras.datasets.cifar10.load_data()"
      ]
    },
    {
      "cell_type": "code",
      "execution_count": 15,
      "metadata": {
        "colab": {
          "base_uri": "https://localhost:8080/"
        },
        "id": "8PdDvmAXAQNk",
        "outputId": "f7851fd3-47c0-4d94-b6b2-572a328066b8"
      },
      "outputs": [
        {
          "data": {
            "text/plain": [
              "((50000, 32, 32, 3), (10000, 32, 32, 3))"
            ]
          },
          "execution_count": 15,
          "metadata": {},
          "output_type": "execute_result"
        }
      ],
      "source": [
        "x_train.shape , x_test.shape"
      ]
    },
    {
      "cell_type": "markdown",
      "metadata": {
        "id": "mIlAIT2vAvbY"
      },
      "source": [
        "# **Data Preprocessing**"
      ]
    },
    {
      "cell_type": "code",
      "execution_count": 6,
      "metadata": {
        "id": "jZt1YmU4AQQZ"
      },
      "outputs": [],
      "source": [
        "#normalization\n",
        "x_train = x_train/255.0\n",
        "x_test = x_test/255.0"
      ]
    },
    {
      "cell_type": "code",
      "execution_count": 7,
      "metadata": {
        "id": "tI698kKyAQTC"
      },
      "outputs": [],
      "source": [
        "#sklearn expects ----------\n",
        "nsamples , nx , ny , nrgb = x_train.shape\n",
        "x_train2 = x_train.reshape((nsamples,nx*ny*nrgb))"
      ]
    },
    {
      "cell_type": "code",
      "execution_count": 12,
      "metadata": {
        "id": "l-eEmAOjAQVp"
      },
      "outputs": [],
      "source": [
        "nsamples , nx,ny,nrgb = x_test.shape\n",
        "x_test2 = x_test.reshape((nsamples,nx*ny*nrgb))"
      ]
    },
    {
      "cell_type": "markdown",
      "metadata": {},
      "source": [
        "# **Building the models**"
      ]
    },
    {
      "cell_type": "markdown",
      "metadata": {
        "id": "9rYhWol_LMi_"
      },
      "source": [
        "### **Random Forest Model**"
      ]
    },
    {
      "cell_type": "code",
      "execution_count": 16,
      "metadata": {
        "colab": {
          "base_uri": "https://localhost:8080/"
        },
        "id": "oeRljHNPLP-4",
        "outputId": "d03a9193-6a7e-41c1-a171-1ce779bcc32d"
      },
      "outputs": [
        {
          "name": "stderr",
          "output_type": "stream",
          "text": [
            "<ipython-input-16-2f51a8383ffb>:2: DataConversionWarning: A column-vector y was passed when a 1d array was expected. Please change the shape of y to (n_samples,), for example using ravel().\n",
            "  model.fit(x_train2,y_train)\n"
          ]
        },
        {
          "data": {
            "text/plain": [
              "array([2, 2, 2, ..., 2, 2, 2], dtype=uint8)"
            ]
          },
          "execution_count": 16,
          "metadata": {},
          "output_type": "execute_result"
        }
      ],
      "source": [
        "#initialization\n",
        "model = RandomForestClassifier()\n",
        "#fiting model\n",
        "model.fit(x_train2,y_train)\n",
        "#predictions\n",
        "y_pred = model.predict(x_test2)\n",
        "y_pred"
      ]
    },
    {
      "cell_type": "code",
      "execution_count": 17,
      "metadata": {
        "colab": {
          "base_uri": "https://localhost:8080/"
        },
        "id": "6TE2DbNALY7u",
        "outputId": "e68ff73d-f106-4f44-df36-e0489467c3a0"
      },
      "outputs": [
        {
          "name": "stdout",
          "output_type": "stream",
          "text": [
            "              precision    recall  f1-score   support\n",
            "\n",
            "           0       0.01      0.16      0.02        49\n",
            "           1       0.00      0.00      0.00         2\n",
            "           2       0.99      0.10      0.18      9918\n",
            "           3       0.00      0.24      0.01        17\n",
            "           4       0.00      0.00      0.00         0\n",
            "           5       0.00      0.10      0.00        10\n",
            "           6       0.00      0.00      0.00         0\n",
            "           7       0.00      0.00      0.00         2\n",
            "           8       0.00      0.00      0.00         2\n",
            "           9       0.00      0.00      0.00         0\n",
            "\n",
            "    accuracy                           0.10     10000\n",
            "   macro avg       0.10      0.06      0.02     10000\n",
            "weighted avg       0.98      0.10      0.18     10000\n",
            "\n"
          ]
        },
        {
          "name": "stderr",
          "output_type": "stream",
          "text": [
            "/usr/local/lib/python3.10/dist-packages/sklearn/metrics/_classification.py:1344: UndefinedMetricWarning: Recall and F-score are ill-defined and being set to 0.0 in labels with no true samples. Use `zero_division` parameter to control this behavior.\n",
            "  _warn_prf(average, modifier, msg_start, len(result))\n",
            "/usr/local/lib/python3.10/dist-packages/sklearn/metrics/_classification.py:1344: UndefinedMetricWarning: Recall and F-score are ill-defined and being set to 0.0 in labels with no true samples. Use `zero_division` parameter to control this behavior.\n",
            "  _warn_prf(average, modifier, msg_start, len(result))\n",
            "/usr/local/lib/python3.10/dist-packages/sklearn/metrics/_classification.py:1344: UndefinedMetricWarning: Recall and F-score are ill-defined and being set to 0.0 in labels with no true samples. Use `zero_division` parameter to control this behavior.\n",
            "  _warn_prf(average, modifier, msg_start, len(result))\n"
          ]
        }
      ],
      "source": [
        "#measuring the accuracy\n",
        "accuracy_score(y_pred,y_test)\n",
        "print(classification_report(y_pred,y_test))"
      ]
    },
    {
      "cell_type": "markdown",
      "metadata": {
        "id": "OvzTw7vnLzkN"
      },
      "source": [
        "### **KNN MODEL**"
      ]
    },
    {
      "cell_type": "code",
      "execution_count": 20,
      "metadata": {
        "colab": {
          "base_uri": "https://localhost:8080/"
        },
        "id": "ocNuL3_ULZAV",
        "outputId": "fd0deebc-793d-4bc3-c041-2a00ccd05b65"
      },
      "outputs": [
        {
          "name": "stderr",
          "output_type": "stream",
          "text": [
            "/usr/local/lib/python3.10/dist-packages/sklearn/neighbors/_classification.py:215: DataConversionWarning: A column-vector y was passed when a 1d array was expected. Please change the shape of y to (n_samples,), for example using ravel().\n",
            "  return self._fit(X, y)\n"
          ]
        },
        {
          "data": {
            "text/plain": [
              "array([0, 0, 0, ..., 0, 0, 0], dtype=uint8)"
            ]
          },
          "execution_count": 20,
          "metadata": {},
          "output_type": "execute_result"
        }
      ],
      "source": [
        "#initialization\n",
        "knn = KNeighborsClassifier(n_neighbors= 7)\n",
        "#fiting model\n",
        "knn.fit(x_train2,y_train)\n",
        "#predictions\n",
        "y_pred_knn = knn.predict(x_test2)\n",
        "y_pred_knn"
      ]
    },
    {
      "cell_type": "code",
      "execution_count": 21,
      "metadata": {
        "colab": {
          "base_uri": "https://localhost:8080/"
        },
        "id": "gVrJotoDLZCt",
        "outputId": "61a93604-4f9e-4458-8907-7f10f8df2873"
      },
      "outputs": [
        {
          "name": "stdout",
          "output_type": "stream",
          "text": [
            "              precision    recall  f1-score   support\n",
            "\n",
            "           0       1.00      0.10      0.18      9994\n",
            "           1       0.00      0.00      0.00         1\n",
            "           2       0.00      0.25      0.00         4\n",
            "           3       0.00      0.00      0.00         1\n",
            "           4       0.00      0.00      0.00         0\n",
            "           5       0.00      0.00      0.00         0\n",
            "           6       0.00      0.00      0.00         0\n",
            "           7       0.00      0.00      0.00         0\n",
            "           8       0.00      0.00      0.00         0\n",
            "           9       0.00      0.00      0.00         0\n",
            "\n",
            "    accuracy                           0.10     10000\n",
            "   macro avg       0.10      0.04      0.02     10000\n",
            "weighted avg       1.00      0.10      0.18     10000\n",
            "\n"
          ]
        },
        {
          "name": "stderr",
          "output_type": "stream",
          "text": [
            "/usr/local/lib/python3.10/dist-packages/sklearn/metrics/_classification.py:1344: UndefinedMetricWarning: Recall and F-score are ill-defined and being set to 0.0 in labels with no true samples. Use `zero_division` parameter to control this behavior.\n",
            "  _warn_prf(average, modifier, msg_start, len(result))\n",
            "/usr/local/lib/python3.10/dist-packages/sklearn/metrics/_classification.py:1344: UndefinedMetricWarning: Recall and F-score are ill-defined and being set to 0.0 in labels with no true samples. Use `zero_division` parameter to control this behavior.\n",
            "  _warn_prf(average, modifier, msg_start, len(result))\n",
            "/usr/local/lib/python3.10/dist-packages/sklearn/metrics/_classification.py:1344: UndefinedMetricWarning: Recall and F-score are ill-defined and being set to 0.0 in labels with no true samples. Use `zero_division` parameter to control this behavior.\n",
            "  _warn_prf(average, modifier, msg_start, len(result))\n"
          ]
        }
      ],
      "source": [
        "#measuring the accuracy\n",
        "accuracy_score(y_pred_knn,y_test)\n",
        "print(classification_report(y_pred_knn,y_test))"
      ]
    },
    {
      "cell_type": "markdown",
      "metadata": {
        "id": "E7xBRIYvL_aW"
      },
      "source": [
        "### **Decision Tree Model**"
      ]
    },
    {
      "cell_type": "code",
      "execution_count": 22,
      "metadata": {
        "colab": {
          "base_uri": "https://localhost:8080/"
        },
        "id": "D9lW48MBMFG6",
        "outputId": "5be4ed8c-a4dc-493f-a3ca-449a5d5cf6e3"
      },
      "outputs": [
        {
          "data": {
            "text/plain": [
              "array([0, 5, 0, ..., 0, 0, 0], dtype=uint8)"
            ]
          },
          "execution_count": 22,
          "metadata": {},
          "output_type": "execute_result"
        }
      ],
      "source": [
        "#initialization\n",
        "dtc = DecisionTreeClassifier()\n",
        "#fiting model\n",
        "dtc.fit(x_train2,y_train)\n",
        "#predictions\n",
        "y_pred_dtc = dtc.predict(x_test2)\n",
        "y_pred_dtc"
      ]
    },
    {
      "cell_type": "code",
      "execution_count": 23,
      "metadata": {
        "colab": {
          "base_uri": "https://localhost:8080/"
        },
        "id": "VC5r-18PMFP-",
        "outputId": "131996c3-fc0d-4ca6-decd-90bc00ecffa0"
      },
      "outputs": [
        {
          "name": "stdout",
          "output_type": "stream",
          "text": [
            "              precision    recall  f1-score   support\n",
            "\n",
            "           0       0.98      0.10      0.18      9807\n",
            "           1       0.00      0.08      0.00        12\n",
            "           2       0.00      0.06      0.01        50\n",
            "           3       0.01      0.16      0.02        56\n",
            "           4       0.00      0.11      0.00         9\n",
            "           5       0.00      0.08      0.00        25\n",
            "           6       0.00      0.00      0.00         2\n",
            "           7       0.00      0.25      0.00         8\n",
            "           8       0.00      0.07      0.00        28\n",
            "           9       0.00      0.00      0.00         3\n",
            "\n",
            "    accuracy                           0.10     10000\n",
            "   macro avg       0.10      0.09      0.02     10000\n",
            "weighted avg       0.96      0.10      0.18     10000\n",
            "\n"
          ]
        }
      ],
      "source": [
        "#measuring the accuracy\n",
        "accuracy_score(y_pred_dtc,y_test)\n",
        "print(classification_report(y_pred_dtc,y_test))"
      ]
    },
    {
      "cell_type": "markdown",
      "metadata": {
        "id": "kiX2aA8DMKxa"
      },
      "source": [
        "### **Naive Bayes Model**"
      ]
    },
    {
      "cell_type": "code",
      "execution_count": 24,
      "metadata": {
        "colab": {
          "base_uri": "https://localhost:8080/"
        },
        "id": "KLjRS2VuMOnl",
        "outputId": "5773c448-7794-4081-8917-53d887b4395e"
      },
      "outputs": [
        {
          "name": "stderr",
          "output_type": "stream",
          "text": [
            "/usr/local/lib/python3.10/dist-packages/sklearn/utils/validation.py:1143: DataConversionWarning: A column-vector y was passed when a 1d array was expected. Please change the shape of y to (n_samples, ), for example using ravel().\n",
            "  y = column_or_1d(y, warn=True)\n"
          ]
        },
        {
          "data": {
            "text/plain": [
              "array([1, 1, 1, ..., 1, 1, 1], dtype=uint8)"
            ]
          },
          "execution_count": 24,
          "metadata": {},
          "output_type": "execute_result"
        }
      ],
      "source": [
        "#initialization\n",
        "nb = GaussianNB()\n",
        "#fiting model\n",
        "nb.fit(x_train2,y_train)\n",
        "#predictions\n",
        "y_pred_nb = nb.predict(x_test2)\n",
        "y_pred_nb"
      ]
    },
    {
      "cell_type": "code",
      "execution_count": 25,
      "metadata": {
        "colab": {
          "base_uri": "https://localhost:8080/"
        },
        "id": "QaUC4iLSMTZG",
        "outputId": "86180b0d-141d-40bb-e3c6-87665fa575ec"
      },
      "outputs": [
        {
          "name": "stdout",
          "output_type": "stream",
          "text": [
            "              precision    recall  f1-score   support\n",
            "\n",
            "           0       0.00      0.04      0.00        26\n",
            "           1       0.98      0.10      0.18      9794\n",
            "           2       0.00      0.00      0.00         0\n",
            "           3       0.03      0.16      0.05       180\n",
            "           4       0.00      0.00      0.00         0\n",
            "           5       0.00      0.00      0.00         0\n",
            "           6       0.00      0.00      0.00         0\n",
            "           7       0.00      0.00      0.00         0\n",
            "           8       0.00      0.00      0.00         0\n",
            "           9       0.00      0.00      0.00         0\n",
            "\n",
            "    accuracy                           0.10     10000\n",
            "   macro avg       0.10      0.03      0.02     10000\n",
            "weighted avg       0.96      0.10      0.18     10000\n",
            "\n"
          ]
        },
        {
          "name": "stderr",
          "output_type": "stream",
          "text": [
            "/usr/local/lib/python3.10/dist-packages/sklearn/metrics/_classification.py:1344: UndefinedMetricWarning: Recall and F-score are ill-defined and being set to 0.0 in labels with no true samples. Use `zero_division` parameter to control this behavior.\n",
            "  _warn_prf(average, modifier, msg_start, len(result))\n",
            "/usr/local/lib/python3.10/dist-packages/sklearn/metrics/_classification.py:1344: UndefinedMetricWarning: Recall and F-score are ill-defined and being set to 0.0 in labels with no true samples. Use `zero_division` parameter to control this behavior.\n",
            "  _warn_prf(average, modifier, msg_start, len(result))\n",
            "/usr/local/lib/python3.10/dist-packages/sklearn/metrics/_classification.py:1344: UndefinedMetricWarning: Recall and F-score are ill-defined and being set to 0.0 in labels with no true samples. Use `zero_division` parameter to control this behavior.\n",
            "  _warn_prf(average, modifier, msg_start, len(result))\n"
          ]
        }
      ],
      "source": [
        "#measuring the accuracy\n",
        "accuracy_score(y_pred_nb,y_test)\n",
        "print(classification_report(y_pred_nb,y_test))"
      ]
    }
  ],
  "metadata": {
    "colab": {
      "provenance": []
    },
    "kernelspec": {
      "display_name": "Python 3",
      "name": "python3"
    },
    "language_info": {
      "name": "python"
    }
  },
  "nbformat": 4,
  "nbformat_minor": 0
}
